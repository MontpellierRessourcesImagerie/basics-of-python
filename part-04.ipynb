{
  "nbformat": 4,
  "nbformat_minor": 0,
  "metadata": {
    "colab": {
      "provenance": []
    },
    "kernelspec": {
      "name": "python3",
      "display_name": "Python 3"
    },
    "language_info": {
      "name": "python"
    }
  },
  "cells": [
    {
      "cell_type": "markdown",
      "source": [
        "# Functions\n",
        "\n",
        "- One of the goals when you make a script is to create it in a way making it easy to fix in case of problem and easy to modify if the implementation has to be changed.\n",
        "- To achieve that, we avoid copy and pasting chunks of code in several places.\n",
        "- Instead we use **functions** which allow us to implement a given algorithm or a sub-part of algorithm, and to call it from everywhere we need.\n",
        "- A function is declared using the keyword `def`, followed by the name we want to give it.\n",
        "- A function can require parameters or not, but either way, the name must be followed by parenthesis.\n",
        "- A function can return nothing, an object, or a tuple of objects\n",
        "\n",
        "**Examples:**"
      ],
      "metadata": {
        "id": "TeKzSb-d5akw"
      }
    },
    {
      "cell_type": "code",
      "source": [
        "def my_function():\n",
        "    print(\"From inside the function\")\n",
        "\n",
        "# Using the function\n",
        "my_function()"
      ],
      "metadata": {
        "id": "du2c8r6OgrBg"
      },
      "execution_count": null,
      "outputs": []
    },
    {
      "cell_type": "code",
      "source": [
        "def print_parameters(param1, other):\n",
        "    print(f\"The parameter {param1} and {other} were passed to the function\")\n",
        "\n",
        "a = 3\n",
        "b = 5\n",
        "c = 18\n",
        "print_parameters(a, b)\n",
        "print_parameters(a, c)\n",
        "print_parameters(b, c)"
      ],
      "metadata": {
        "id": "o5S8DBJ0g4JF"
      },
      "execution_count": null,
      "outputs": []
    },
    {
      "cell_type": "code",
      "source": [
        "import math\n",
        "\n",
        "# This function returns what it processed\n",
        "def disk_area(radius):\n",
        "    area = math.pi * radius**2\n",
        "    return area\n",
        "\n",
        "# We have to capture the result in a variable\n",
        "a = disk_area(3)\n",
        "b = disk_area(5)\n",
        "print(a)\n",
        "print(b)"
      ],
      "metadata": {
        "id": "f-Mz8PRkhX-B"
      },
      "execution_count": null,
      "outputs": []
    },
    {
      "cell_type": "markdown",
      "source": [
        "# Objects\n",
        "\n",
        "- One of the programming paradigms supported by Python is the object-oriented programming.\n",
        "- It consists in organizing the code in classes.\n",
        "- The classes are constituted of **attributes** (owned variables) and **methods** (owned functions)\n",
        "- The methods implement the behaviors of the class, they are the only ones that should be allowed to use the attributes.\n",
        "- The classes are **instanciated** into objects.\n",
        "- Each object has its own version of the attributes.\n",
        "\n",
        "**Example:**"
      ],
      "metadata": {
        "id": "_Q57U9GQ5dtj"
      }
    },
    {
      "cell_type": "code",
      "source": [
        "import math\n",
        "class Circle:\n",
        "    # Constructor\n",
        "    def __init__(self, x=0, y=0, radius=10):\n",
        "        self.x = x # the x-coordinate of the position of the circle\n",
        "        self.y = y # the Y-coordinate of the position of the circle\n",
        "        self.radius = radius # the radius of the circle\n",
        "\n",
        "    # a method with a return value\n",
        "    def area(self):\n",
        "        return math.pi * self.radius ** 2\n",
        "\n",
        "    def moveTo(self, x, y):\n",
        "        self.x = x\n",
        "        self.y = y"
      ],
      "metadata": {
        "id": "pu9h_FlWkWdq"
      },
      "execution_count": null,
      "outputs": []
    },
    {
      "cell_type": "markdown",
      "source": [
        "- Here is a class `Circle`\n",
        "- It will contain the characteristics of a circle (center and radius) as its attributes.\n",
        "- The `__init__` function is the constructor, it will be called implicitely when we will create an instance of `Circle`.\n",
        "- Our circles objects will have two \"skills\", represented by the two methods `area` and `moveTo`.\n",
        "- `moveTo` is responsible for editing the values of x and y. It shouldn't be done manually from outside.\n",
        "- Whenever `self` appears, it refers to the current instance of circle."
      ],
      "metadata": {
        "id": "izuhuVKLkf7I"
      }
    },
    {
      "cell_type": "code",
      "source": [
        "# Each of the following instances has its own version of x, y and radius\n",
        "# They are independant\n",
        "c1 = Circle()\n",
        "c2 = Circle(10, 20, 5)\n",
        "c3 = Circle(2, 2)\n",
        "\n",
        "print(c1.x, c1.y, c1.radius)\n",
        "print(c2.x, c2.y, c2.radius)\n",
        "print(c3.x, c3.y, c3.radius)\n",
        "\n",
        "c1.moveTo(-2, 42)\n",
        "print(c1.x, c1.y, c1.radius)\n",
        "a1 = c1.area()\n",
        "print(a1)"
      ],
      "metadata": {
        "id": "eC4NV5NhlsJn"
      },
      "execution_count": null,
      "outputs": []
    },
    {
      "cell_type": "markdown",
      "source": [
        "# Modules"
      ],
      "metadata": {
        "id": "r5kwK4aO5f1k"
      }
    },
    {
      "cell_type": "markdown",
      "source": [
        "- Python is a very popular language and a lot of operations have already been implemented and made available as packages.\n",
        "- A package contains at least one module.\n",
        "- A module is a unit of code that can contain classes and functions.\n",
        "- You can install a package using `pip` with the command `pip install package_name`\n",
        "- For example, the `numpy` package contains modules such as `core`, `linalg`, ...\n",
        "- You can import modules and packages with the `import` statement.\n",
        "\n",
        "**Example:**\n",
        "\n",
        "- Here we will use numpy to create a canvas representing a 2D image.\n",
        "- The `numpy.ndarray` class will often be used to represent images.\n",
        "- Numpy has a lot of functions to manipulate them."
      ],
      "metadata": {
        "id": "NvgjPsz1nJjb"
      }
    },
    {
      "cell_type": "code",
      "source": [
        "# Import the module/package and give it an alias (shorter name)\n",
        "import numpy as np\n",
        "\n",
        "# An alias can be anything\n",
        "import os as pineapple\n",
        "print(pineapple.name)\n",
        "\n",
        "# But there are conventions for packages that we will use\n",
        "import matplotlib.pyplot as plt\n",
        "import numpy as np\n",
        "import pandas as pd\n",
        "import seaborn as sns\n",
        "\n",
        "# Call the content of a module\n",
        "width = 256\n",
        "height = 256\n",
        "canvas = np.zeros((height, width, 3), np.uint8)\n",
        "print(canvas.shape)\n",
        "\n",
        "# You can cherry-pick what you import from a module\n",
        "from math import pi, cos, sin # Whatch for collisions!!\n",
        "print(cos(pi), sin(pi))\n",
        "\n",
        "# What you must NOT do\n",
        "from math import *"
      ],
      "metadata": {
        "id": "bDjjKVeIorFv"
      },
      "execution_count": null,
      "outputs": []
    },
    {
      "cell_type": "code",
      "source": [
        "# If you need, you can get the help for a module or a module's function:\n",
        "help(np.zeros)"
      ],
      "metadata": {
        "id": "MYO-2FVCpbyI"
      },
      "execution_count": null,
      "outputs": []
    },
    {
      "cell_type": "markdown",
      "source": [
        "- Other example: using the `pandas` package\n",
        "- It is very popular to read, write and manage big datasets using different formats"
      ],
      "metadata": {
        "id": "K6vwloqysQxl"
      }
    },
    {
      "cell_type": "code",
      "source": [
        "import pandas as pd\n",
        "ts = pd.read_excel('https://www.insee.fr/fr/statistiques/fichier/4277613/T20F023.xlsx', index_col=0)\n",
        "ts = pd.DataFrame(ts).reset_index()\n",
        "ts.columns = ['Year', \"Growth rate\"]\n",
        "ts = ts[3:]\n",
        "ts[1:10]"
      ],
      "metadata": {
        "id": "bBe0FPiVsf0A"
      },
      "execution_count": null,
      "outputs": []
    },
    {
      "cell_type": "code",
      "source": [
        "# And now we plot the data as an interactive graph\n",
        "import mpld3 # How would you fix this error ? Hint: https://pypi.org/project/mpld3/0.1/\n",
        "axes = ts.plot(title=\"Plotting data from an excel file\", figsize=(12,4))\n",
        "mpld3.display()"
      ],
      "metadata": {
        "id": "m0SVJzF0smJ8"
      },
      "execution_count": null,
      "outputs": []
    },
    {
      "cell_type": "markdown",
      "source": [
        "- Actual scripts can become huge and messy.\n",
        "- Also, different scripts may need to use a same function and we would like to avoid duplicating the code.\n",
        "- For these reasons, you can organize your code in modules\n",
        "- Any \".py\" file can behave like a module"
      ],
      "metadata": {
        "id": "3WAN5O22meK8"
      }
    },
    {
      "cell_type": "markdown",
      "source": [
        "# Use the documentation\n",
        "\n",
        "**Example:** The documentation of [cKDTree from SciPy](https://docs.scipy.org/doc/scipy/reference/generated/scipy.spatial.cKDTree.html)"
      ],
      "metadata": {
        "id": "qQlxUlRjgYCd"
      }
    },
    {
      "cell_type": "markdown",
      "source": [
        "# Combine everything\n",
        "\n",
        "**Exercise:** To use everything we saw so far, we will implement a function and a class.\n",
        "\n",
        "### The rectangle class\n",
        "\n",
        "- We want to do a class able to represent a rectangle.\n",
        "- It must have a `width`, a `height`, and a 2D `position`.\n",
        "- It must have a constructor accepting a width, a height and a position.\n",
        "- It must have a `move` method to change its position.\n",
        "- It must have a `resize` method to change its dimensions.\n",
        "- It must have a method `isSquare` returning `True` if the current instance is a square."
      ],
      "metadata": {
        "id": "al3hU_2Dg3zC"
      }
    },
    {
      "cell_type": "code",
      "source": [
        "# Your code for the Rectangle here:\n",
        "\n",
        "class Rectangle:\n",
        "    ..."
      ],
      "metadata": {
        "id": "8Nen-uWXj4VD"
      },
      "execution_count": null,
      "outputs": []
    },
    {
      "cell_type": "code",
      "source": [
        "width = 20\n",
        "height = 10\n",
        "pos = (-5, 8)\n",
        "r1 = Rectangle(width, height, pos)\n",
        "\n",
        "new_pos = (5, -8)\n",
        "r1.move(new_pos)\n",
        "\n",
        "r1.resize(42, 12)\n",
        "\n",
        "if r1.isSquare():\n",
        "    print(\"The rectangle is a square\")\n",
        "else:\n",
        "    print(\"The rectangle is not a square\")"
      ],
      "metadata": {
        "id": "9l6eP7W-j1g_"
      },
      "execution_count": null,
      "outputs": []
    },
    {
      "cell_type": "markdown",
      "source": [
        "### The \"who_graduated\" function\n",
        "\n",
        "- This function must accept a dictionary as input\n",
        "- This dictionary's keys are students names\n",
        "- Each student has a list of his grades (over 20)\n",
        "- The function must return a dictionary in which keys are students names as well, but values are either True or False to say if the student validated this year.\n",
        "- A year is validated is the average grade is at least 10.\n",
        "- We want to use the function `average` from `numpy` to process the average grade.\n",
        "- A student who doesn't have any grade doesn't graduate"
      ],
      "metadata": {
        "id": "ZOAhCzwKlPME"
      }
    },
    {
      "cell_type": "code",
      "source": [
        "# Your function \"who_graduated\" here\n",
        "\n",
        "def who_graduated(grades):\n",
        "    ..."
      ],
      "metadata": {
        "id": "D-rWTmnEl-Ib"
      },
      "execution_count": null,
      "outputs": []
    },
    {
      "cell_type": "code",
      "source": [
        "grades = {\n",
        "    \"student-A\": [5.25, 2.0, 8.75, 10.0],\n",
        "    \"student-B\": [10.25, 9.75, 11.75],\n",
        "    \"student-C\": [],\n",
        "    \"student-D\": [15.25, 13.5, 17.5, 14.0],\n",
        "}\n",
        "\n",
        "results = who_graduated(grades)\n",
        "\n",
        "for student, graduated in results.items():\n",
        "    if graduated:\n",
        "        print(f\"{student} graduated!\")\n",
        "    else:\n",
        "        print(f\"See you next year {student}...\")"
      ],
      "metadata": {
        "id": "mnMrGusglQJz"
      },
      "execution_count": null,
      "outputs": []
    },
    {
      "cell_type": "markdown",
      "source": [
        "# Virtual environment\n",
        "\n",
        "- Modules in Python are often not retro-compatible.\n",
        "- If you come to the point that you need NumPy 1.x.x for a script and Numpy 2.x.x for another, you are stuck.\n",
        "- To avoid that, we can use virtual environments.\n",
        "- Virtual environments are isolated bubles in which a set of packages/modules with the desired versions live, without interfering with the content of other environments.\n",
        "- You can use [Miniconda](https://repo.anaconda.com/miniconda/), which is a popular virtual environments manager.\n",
        "\n",
        "---\n",
        "\n",
        "- **Create an environment with** `conda create -n some_name -y python=3.10`\n",
        "- **Activate it with** `conda activate some_name`\n",
        "- **Then, install all the packages you need** `pip install xxxxx`\n",
        "\n",
        "---\n",
        "\n",
        "- For Jupyter notebooks: `pip install jupyter`\n",
        "- Launch: `jupyter notebook`"
      ],
      "metadata": {
        "id": "5fyRdJg4eZKI"
      }
    }
  ]
}