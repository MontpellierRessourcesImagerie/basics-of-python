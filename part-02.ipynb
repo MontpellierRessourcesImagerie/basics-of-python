{
  "nbformat": 4,
  "nbformat_minor": 0,
  "metadata": {
    "colab": {
      "provenance": []
    },
    "kernelspec": {
      "name": "python3",
      "display_name": "Python 3"
    },
    "language_info": {
      "name": "python"
    }
  },
  "cells": [
    {
      "cell_type": "markdown",
      "source": [
        "# Introduction to Python\n",
        "\n",
        "## What is Python (in short)\n",
        "\n",
        "Python is:\n",
        "- a high level language\n",
        "- an interpreted programming language\n",
        "- strongly typed\n",
        "- dynamically typed\n",
        "- modular\n",
        "- multi-paradigms\n",
        "\n",
        "---\n",
        "\n",
        "- **High level** means a high level of abstraction from the details of the underlying machine. One example of this is that you do not have to care of how the memory of the computer is managed when you create objects. For example, you can create a list of numbers, without having to reserve and free memory.\n",
        "- **Interpreted** means that the lines of your code are read one by one, only when they have to be executed. You can modify the code and your modification will take effect without any other requirements (no compilation).\n",
        "- We will see the other points through examples later."
      ],
      "metadata": {
        "id": "6j1JX-KwNV7Q"
      }
    },
    {
      "cell_type": "markdown",
      "source": [
        "# Basic data types\n",
        "\n",
        "- We saw in the previous part that we can create variables to store some data or some results.\n",
        "- The most basic types (things) that our variables can be are:\n",
        "    - A string (`str`): A chain of characters\n",
        "    - An integer (`int`): -42, 0, 3\n",
        "    - A floating-point number (`float`): 3.1415629, 0.0, 1e-6\n",
        "    - A boolean (`bool`): True, False\n",
        "    - `None`: a special value representing the abscence of value"
      ],
      "metadata": {
        "id": "ZVa_67hVOP_S"
      }
    },
    {
      "cell_type": "code",
      "execution_count": null,
      "metadata": {
        "id": "ST7UHOanNQXs"
      },
      "outputs": [],
      "source": [
        "# an \"int\" variable:\n",
        "a = 38\n",
        "\n",
        "# a \"float\" variable:\n",
        "b = 3.1415\n",
        "\n",
        "# some examples of \"strings\":\n",
        "c = \"some random stuff 123\" # can be any length\n",
        "d = \"\" # can be empty\n",
        "e = \"èç\" # supports non-ascii characters\n",
        "\n",
        "# some examples of booleans:\n",
        "f = True\n",
        "g = False\n",
        "\n",
        "# an example of None:\n",
        "h = None"
      ]
    },
    {
      "cell_type": "markdown",
      "source": [
        "- If you need to know the type of a variable, you can use the `type` function.\n",
        "- It produces a value (\"returns\") that is the type of the object. You have to use `print` to display it:"
      ],
      "metadata": {
        "id": "0xGSHr82QHoP"
      }
    },
    {
      "cell_type": "code",
      "source": [
        "print(type(a))\n",
        "print(type(b))\n",
        "print(type(c))\n",
        "print(type(d))\n",
        "print(type(e))\n",
        "print(type(f))\n",
        "print(type(g))"
      ],
      "metadata": {
        "id": "K6LIG2tiQa5G"
      },
      "execution_count": null,
      "outputs": []
    },
    {
      "cell_type": "markdown",
      "source": [
        "## Dynamically typed\n",
        "\n",
        "- In Python, variables are **dynamically typed**.\n",
        "- It means that a given variable can change of type at any time and become any other type.\n",
        "- The opposite is \"statically typed\", like in other languages such a C++ or Java.\n",
        "\n",
        "**Examples:**"
      ],
      "metadata": {
        "id": "pXbW2XpLSC66"
      }
    },
    {
      "cell_type": "code",
      "source": [
        "# 'a' is a float here:\n",
        "a = 3.1415\n",
        "print(a, type(a))\n",
        "\n",
        "# 'a' becomes a string:\n",
        "a = \"becomes a string\"\n",
        "print(a, type(a))"
      ],
      "metadata": {
        "id": "_xTSt2dbbO4X"
      },
      "execution_count": null,
      "outputs": []
    },
    {
      "cell_type": "markdown",
      "source": [
        "## Strongly typed\n",
        "\n",
        "- This means that the language is not able to convert a type to another **by itself** if you don't ask for it explicitely.\n",
        "- It is possible to make a conversion from a type to another, but you need to use dedicated functions.\n",
        "- For example, an operation such as an addition of which the first term is a number (float or int) has to have a number as its other term.\n",
        "\n",
        "**Example:**"
      ],
      "metadata": {
        "id": "8X4GuRZ2b2n_"
      }
    },
    {
      "cell_type": "code",
      "source": [
        "a = 3.1415 + 2.0 # OK, we can add two floats\n",
        "print(a)\n",
        "\n",
        "b = 3.1415 + \"3\" # ERROR, we cannot add a float and a string\n",
        "print(b)"
      ],
      "metadata": {
        "id": "tOOsRfZ_ciS6"
      },
      "execution_count": null,
      "outputs": []
    },
    {
      "cell_type": "markdown",
      "source": [
        "**Note:** A string is a string and nothing else. If we write `a = 3`, we store the number 3 in `a`. If we write `a = \"3\"`, we store the text representation of 3, which is not the number 3. You can see it as the drawing of the digit 3. It is as usable in an addition as if you wrote `a = \"three\"`\n",
        "\n",
        "=> You can try to cast a variable from a type to another with the types constructors:"
      ],
      "metadata": {
        "id": "nkMCsUJ_dLZ_"
      }
    },
    {
      "cell_type": "code",
      "source": [
        "a = 3.14\n",
        "print(a, type(a))\n",
        "a = int(a)\n",
        "print(a, type(a))"
      ],
      "metadata": {
        "id": "liPVeQW1dqVG"
      },
      "execution_count": null,
      "outputs": []
    },
    {
      "cell_type": "code",
      "source": [
        "b = \"14\"\n",
        "print(b, type(b))\n",
        "b = float(b)\n",
        "print(b, type(b))"
      ],
      "metadata": {
        "id": "9BZqM3I1eCFk"
      },
      "execution_count": null,
      "outputs": []
    },
    {
      "cell_type": "code",
      "source": [
        "c = a + b\n",
        "print(c, type(c))"
      ],
      "metadata": {
        "id": "64pfpSgkejiX"
      },
      "execution_count": null,
      "outputs": []
    },
    {
      "cell_type": "markdown",
      "source": [
        "### Tip: strings formatting\n",
        "\n",
        "- As you probably guessed from the previous step, if we wanted to write the result of our addition in a fancy way, we would have to do something like:"
      ],
      "metadata": {
        "id": "8McNPgD3fL8n"
      }
    },
    {
      "cell_type": "code",
      "source": [
        "a = 4\n",
        "b = 5\n",
        "c = a + b\n",
        "as_text = \"The sum of \" + str(a) + \" and \" + str(b) + \" is equal to \" + str(c) + \".\"\n",
        "print(as_text)"
      ],
      "metadata": {
        "id": "O_fjfPeOfgq1"
      },
      "execution_count": null,
      "outputs": []
    },
    {
      "cell_type": "markdown",
      "source": [
        "- **Concatenating** strings like that is very tedious to write.\n",
        "- Python proposes an alternative: the formatted strings.\n",
        "- You can simply:\n",
        "    - Add a 'f' stuck to the left-most quote mark\n",
        "    - Write every variable in curly braces\n",
        "    - It will automatically attempt to cast the variable to a string\n",
        "    - It is part of the advantages of a high-level language.\n",
        "\n",
        "**Here is the equivalent:**"
      ],
      "metadata": {
        "id": "Y4awMKkCf1Xt"
      }
    },
    {
      "cell_type": "code",
      "source": [
        "a = 4\n",
        "b = 5\n",
        "c = a + b\n",
        "as_text = f\"The sum of {a} and {b} is equal to {c}.\"\n",
        "print(as_text)"
      ],
      "metadata": {
        "id": "uMqqrlOGgawm"
      },
      "execution_count": null,
      "outputs": []
    },
    {
      "cell_type": "markdown",
      "source": [
        "## Data types: collections\n",
        "\n",
        "- The types that we saw so far are the most basic ones, but there also exist some types which are collections of objects.\n",
        "\n",
        "#### A. Lists\n",
        "\n",
        "- Lists can contain an arbitrary number of objects.\n",
        "- The items in a list are ordered.\n",
        "- A list can contain heterogeneous types of objects.\n",
        "- The content of a list is declared with square-brackets\n",
        "\n",
        "**Examples:**"
      ],
      "metadata": {
        "id": "Awog8US2hJlF"
      }
    },
    {
      "cell_type": "code",
      "source": [
        "my_list = [] # This list is empty\n",
        "other_list = [1, 2, 3, 4, 5] # A list containing 5 integers\n",
        "some_list = [1, 3.14, \"two\", True, None] # A heterogeneous list containing all basic types\n",
        "last_list = [[1, 2, 3], [4, 5, 6]] # A list containing two lists. The two lists containg 3 integers"
      ],
      "metadata": {
        "id": "fkwNt-KdiSn6"
      },
      "execution_count": null,
      "outputs": []
    },
    {
      "cell_type": "markdown",
      "source": [
        "- You can access an item of a list given its rank. Indices start at 0 !!!\n",
        "- The `len` functions allows you to know how many items are in the list.\n",
        "- You can extract a chunk from a list given:\n",
        "    - i1: the first index to keep\n",
        "    - i2: the index of the last item to keep + 1\n",
        "- Explore a list backward using negative indices starting at -1\n",
        "- Only integers can be used to access a list\n",
        "\n",
        "**Examples:**"
      ],
      "metadata": {
        "id": "UMiCtfNvkGml"
      }
    },
    {
      "cell_type": "code",
      "source": [
        "# Display the length of every list from the previous cell\n",
        "print(len(my_list))\n",
        "print(len(other_list))\n",
        "print(len(some_list))\n",
        "print(len(last_list))\n",
        "\n",
        "# Get the SECOND item of the \"some_list\" list\n",
        "item = some_list[1] # start at 0\n",
        "print(item)\n",
        "\n",
        "# Get an item in imbricated lists:\n",
        "item = last_list[1][1]\n",
        "print(item)\n",
        "\n",
        "# Get a chunk of the \"other_list\" list\n",
        "chunk = other_list[1:4]\n",
        "print(chunk)\n",
        "\n",
        "# Get the last item of \"other_list\"\n",
        "item = other_list[-1]\n",
        "print(item)"
      ],
      "metadata": {
        "id": "KPIlbbEVkwgR"
      },
      "execution_count": null,
      "outputs": []
    },
    {
      "cell_type": "markdown",
      "source": [
        "- You can build a list by declaring all its items explicitely.\n",
        "- You can add as many items as you want to a list.\n",
        "- You can build a new list by concatenating two lists.\n",
        "- Remove an item from the list using pop"
      ],
      "metadata": {
        "id": "GgYQtg_jmRjL"
      }
    },
    {
      "cell_type": "code",
      "source": [
        "# All items are declared at the start\n",
        "the_list = [1, 2, 3, 4]\n",
        "print(the_list)\n",
        "\n",
        "# All items are added one by one\n",
        "the_list = []\n",
        "the_list.append(1)\n",
        "the_list.append(2)\n",
        "the_list.append(3)\n",
        "the_list.append(4)\n",
        "print(the_list)\n",
        "\n",
        "# Concatenating lists\n",
        "l1 = [1, 2]\n",
        "l2 = [3, 4]\n",
        "the_list = l1 + l2\n",
        "print(the_list)\n",
        "\n",
        "# Remove an item from a list\n",
        "the_list = [1, 2, 3, 4, 5]\n",
        "the_list.pop(-1)\n",
        "print(the_list)"
      ],
      "metadata": {
        "id": "Z7Z8X6LNnAYW"
      },
      "execution_count": null,
      "outputs": []
    },
    {
      "cell_type": "markdown",
      "source": [
        "#### B. Tuples\n",
        "\n",
        "- Tuples behave exactly like lists, with the single difference being that they are unmutable (they are constant from the moment you created them)\n",
        "- To declare a tuple, use parenthesis instead of square brackets.\n",
        "- To declare a tuple containing a single element, you must add an extra comma"
      ],
      "metadata": {
        "id": "4Xh6QY2FmLR6"
      }
    },
    {
      "cell_type": "code",
      "source": [
        "# Declaring a tuple\n",
        "the_tuple = (1, 2, 3)\n",
        "\n",
        "# Tuple containing a single item, with an extra comma\n",
        "the_tuple = (1, )"
      ],
      "metadata": {
        "id": "OKnNj_--oR0z"
      },
      "execution_count": null,
      "outputs": []
    },
    {
      "cell_type": "markdown",
      "source": [
        "#### C. Dictionaries\n",
        "\n",
        "- Like lists, can store any heterogeneous types of data\n",
        "- Can be indexed using base types and unmutable objects (if they are orderable)\n",
        "- Declared with curly brackets\n",
        "- A dictionary contains **values** and is indexed with **keys**."
      ],
      "metadata": {
        "id": "W8KFLQSBpxWu"
      }
    },
    {
      "cell_type": "code",
      "source": [
        "# Empty dictionary:\n",
        "the_dico = {}\n",
        "print(the_dico)\n",
        "\n",
        "# A dico containing several items\n",
        "the_dico = {\"one\": 1, \"two\": 2, \"three\": 3}\n",
        "print(the_dico)\n",
        "\n",
        "# Adding an item\n",
        "the_dico[\"four\"] = 4\n",
        "print(the_dico)\n",
        "\n",
        "# Overwriting a an item\n",
        "the_dico[\"one\"] = 11\n",
        "print(the_dico)\n",
        "\n",
        "# Number of items\n",
        "print(len(the_dico))\n",
        "\n",
        "# Accessing an item\n",
        "print(the_dico[\"one\"])"
      ],
      "metadata": {
        "id": "4JJSfHkvrmGY"
      },
      "execution_count": null,
      "outputs": []
    }
  ]
}